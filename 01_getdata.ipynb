{
 "cells": [
  {
   "cell_type": "code",
   "execution_count": 34,
   "metadata": {},
   "outputs": [],
   "source": [
    "# default_exp getdata"
   ]
  },
  {
   "cell_type": "markdown",
   "metadata": {},
   "source": [
    "# getdata\n",
    "\n",
    "> 获取数据."
   ]
  },
  {
   "cell_type": "code",
   "execution_count": null,
   "metadata": {},
   "outputs": [],
   "source": [
    "#hide\n",
    "from nbdev.showdoc import *"
   ]
  },
  {
   "cell_type": "code",
   "execution_count": 28,
   "metadata": {},
   "outputs": [],
   "source": [
    "#export \n",
    "from bs4 import BeautifulSoup\n",
    "from parser import * #regex_parser\n",
    "import re\n",
    "import json\n",
    "import time\n",
    "import logging\n",
    "import datetime\n",
    "import requests\n",
    "import pprint "
   ]
  },
  {
   "cell_type": "code",
   "execution_count": 29,
   "metadata": {},
   "outputs": [],
   "source": [
    "#export \n",
    "url = \"https://ncov.dxy.cn/ncovh5/view/pneumonia?from=singlemessage&isappinstalled=0\"\n",
    "headers = {\n",
    "    'user-agent': 'Mozilla/5.0 (Macintosh; Intel Mac OS X 10_15_2) AppleWebKit/537.36 (KHTML, like Gecko) Chrome/79.0.3945.117 Safari/537.36'\n",
    "}\n",
    "\n",
    "#保存的文件名。\n",
    "dateof = '20200207'"
   ]
  },
  {
   "cell_type": "code",
   "execution_count": 30,
   "metadata": {},
   "outputs": [],
   "source": [
    "#export \n",
    "\n",
    "def getweb():\n",
    "    session = requests.session()\n",
    "    session.headers.update(headers)\n",
    "    r = session.get(url)\n",
    "    soup = BeautifulSoup(r.content, 'lxml')\n",
    "\n",
    "    #获取省市数据。\n",
    "    area_information = re.search(r'\\[(.*)\\]', str(soup.find('script', attrs={'id': 'getAreaStat'})))\n",
    "    area = json.loads(area_information.group(0))\n",
    "    return area"
   ]
  },
  {
   "cell_type": "code",
   "execution_count": 31,
   "metadata": {},
   "outputs": [],
   "source": [
    "# export \n",
    "#写入文件，分省数据。\n",
    "def saveprovice(area):\n",
    "    fprovince = \"data/\" + \"prov_\" + dateof + \".csv\"\n",
    "    fp = open(fprovince, \"w\")\n",
    "    fp.write(\"省份,确诊,疑似,治愈,死亡\\r\")\n",
    "    for a in area:\n",
    "        fp.write(a['provinceName']+','+ \\\n",
    "                 str(a['confirmedCount'])+','+ \\\n",
    "                 str(a['suspectedCount'])+','+ \\\n",
    "                 str(a['curedCount'])+','+ \\\n",
    "                 str(a['deadCount'])+ '\\r')\n",
    "    fp.close()\n",
    "    print(\"writed to \"+ fprovince + \"\\r\\n\")"
   ]
  },
  {
   "cell_type": "code",
   "execution_count": 32,
   "metadata": {},
   "outputs": [],
   "source": [
    "# export\n",
    "\n",
    "#写入文件，分市数据。\n",
    "def savecity(area):\n",
    "    fcity = \"data/\" + \"city_\" + dateof + \".csv\"\n",
    "    fc = open(fcity, \"w\")\n",
    "    fc.write(\"省份,城市,确诊,疑似,治愈,死亡\\r\")\n",
    "    for p in area:\n",
    "        cities = p['cities']\n",
    "        for c in cities:\n",
    "            fc.write(p['provinceName']+','+ \\\n",
    "                     c['cityName']+','+ \\\n",
    "                     str(c['confirmedCount'])+','+ \\\n",
    "                     str(c['suspectedCount'])+','+ \\\n",
    "                     str(c['curedCount'])+','+ \\\n",
    "                     str(c['deadCount'])+'\\r')\n",
    "    fc.close()\n",
    "    print(\"writed to \"+ fcity + \"\\r\\n\")"
   ]
  },
  {
   "cell_type": "code",
   "execution_count": 43,
   "metadata": {},
   "outputs": [
    {
     "name": "stdout",
     "output_type": "stream",
     "text": [
      "Converted 00_digdata.ipynb.\n",
      "Converted 01_getdata.ipynb.\n",
      "Converted index.ipynb.\n"
     ]
    }
   ],
   "source": [
    "from nbdev.export import *\n",
    "notebook2script()"
   ]
  },
  {
   "cell_type": "code",
   "execution_count": null,
   "metadata": {},
   "outputs": [],
   "source": []
  }
 ],
 "metadata": {
  "kernelspec": {
   "display_name": "Python 3",
   "language": "python",
   "name": "python3"
  },
  "language_info": {
   "codemirror_mode": {
    "name": "ipython",
    "version": 3
   },
   "file_extension": ".py",
   "mimetype": "text/x-python",
   "name": "python",
   "nbconvert_exporter": "python",
   "pygments_lexer": "ipython3",
   "version": "3.6.9"
  }
 },
 "nbformat": 4,
 "nbformat_minor": 4
}
